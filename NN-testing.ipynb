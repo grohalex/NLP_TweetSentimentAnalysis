{
 "cells": [
  {
   "cell_type": "code",
   "execution_count": 1,
   "metadata": {
    "collapsed": true
   },
   "outputs": [
    {
     "name": "stdout",
     "output_type": "stream",
     "text": [
      "Using CUDA: False\n"
     ]
    }
   ],
   "source": [
    "import torch\n",
    "import torch.optim as optim\n",
    "from torch.autograd import Variable\n",
    "\n",
    "# cuda settings\n",
    "USE_CUDA = torch.cuda.is_available()\n",
    "\n",
    "def cuda(v):\n",
    "    if USE_CUDA:\n",
    "        return v.cuda()\n",
    "    return v\n",
    "def toTensor(v,dtype = torch.float,requires_grad = False):\n",
    "    return cuda(Variable(torch.tensor(v)).type(dtype).requires_grad_(requires_grad))\n",
    "def toNumpy(v):\n",
    "    if USE_CUDA:\n",
    "        return v.detach().cpu().numpy()\n",
    "    return v.detach().numpy()\n",
    "\n",
    "print('Using CUDA:',USE_CUDA)"
   ]
  },
  {
   "cell_type": "code",
   "execution_count": 2,
   "outputs": [
    {
     "data": {
      "text/plain": "<Figure size 432x288 with 1 Axes>",
      "image/png": "[encoded data removed]"
     },
     "metadata": {
      "needs_background": "light"
     },
     "output_type": "display_data"
    }
   ],
   "source": [
    "import numpy as np\n",
    "from matplotlib import pyplot as plt\n",
    "inputs = np.array([[-1,0],[0,1],[4,4],[2,3]])\n",
    "targets = np.array([-1,-1,+1,+1])\n",
    "# N is batch size; D_in is input dimension;\n",
    "# H is hidden dimension; D_out is output dimension.\n",
    "H, D_out = 2, 1\n",
    "x = toTensor(inputs)\n",
    "y = toTensor(targets)\n",
    "N,D_in = x.shape\n",
    "# Use the nn package to define our model as a sequence of layers. nn.Sequential\n",
    "# is a Module which contains other Modules, and applies them in sequence to\n",
    "# produce its output. Each Linear Module computes output from input using a\n",
    "# linear function, and holds internal Tensors for its weight and bias.\n",
    "model = torch.nn.Sequential(\n",
    "    torch.nn.Linear(D_in, H),\n",
    "    torch.nn.Sigmoid(),\n",
    "    torch.nn.Linear(H, D_out),\n",
    ")\n",
    "model=cuda(model)\n",
    "# The nn package also contains definitions of popular loss functions; in this\n",
    "# case we will use Mean Squared Error (MSE) as our loss function.\n",
    "loss_fn = torch.nn.MSELoss()\n",
    "learning_rate = 1e-2\n",
    "optimizer = optim.SGD(model.parameters(), lr=learning_rate)\n",
    "L = []\n",
    "\n",
    "for t in range(500):\n",
    "    # Forward pass: compute predicted y by passing x to the model. Module objects\n",
    "    # override the __call__ operator so you can call them like functions. When\n",
    "    # doing so you pass a Tensor of input data to the Module and it produces\n",
    "    # a Tensor of output data.\n",
    "    y_pred = model(x).flatten()\n",
    "    # Compute and print loss. We pass Tensors containing the predicted and true\n",
    "    # values of y, and the loss function returns a Tensor containing the\n",
    "    # loss.\n",
    "    loss = loss_fn(y_pred, y)\n",
    "    L.append(loss.item())\n",
    "    # Zero the gradients before running the backward pass.\n",
    "    # Backward pass: compute gradient of the loss with respect to all the learnable\n",
    "    # parameters of the model. Internally, the parameters of each Module are stored\n",
    "    # in Tensors with requires_grad=True, so this call will compute gradients for\n",
    "    # all learnable parameters in the model.\n",
    "    model.zero_grad()\n",
    "    loss.backward()\n",
    "    optimizer.step()\n",
    "plt.plot(L);plt.xlabel('iterations');plt.ylabel('Loss');plt.grid()"
   ],
   "metadata": {
    "collapsed": false
   }
  },
  {
   "cell_type": "code",
   "execution_count": 3,
   "outputs": [],
   "source": [
    "import torch\n",
    "import torch.nn as nn\n",
    "import torchvision.datasets as dsets\n",
    "import torchvision.transforms as transforms\n",
    "from torch.autograd import Variable\n",
    "from tqdm.notebook import tqdm\n",
    "USE_CUDA = torch.cuda.is_available()\n",
    "from torch.autograd import Variable\n",
    "\n",
    "def cuda(v):\n",
    "    if USE_CUDA:\n",
    "        return v.cuda()\n",
    "    return v\n",
    "def toTensor(v,dtype = torch.float,requires_grad = False):\n",
    "    vec = v.clone().detach()\n",
    "    return cuda(Variable(vec).type(dtype).requires_grad_(requires_grad))\n",
    "def toNumpy(v):\n",
    "    if USE_CUDA:\n",
    "        return v.detach().cpu().numpy()\n",
    "    return v.detach().numpy()\n",
    "\n",
    "# Hyper Parameters\n",
    "input_size = 784 #number of features\n",
    "hidden_size = 500\n",
    "num_classes = 10\n",
    "num_epochs = 5\n",
    "batch_size = 100\n",
    "learning_rate = 0.001\n",
    "\n",
    "# MNIST Dataset\n",
    "train_dataset = dsets.MNIST(root='./data',\n",
    "                            train=True,\n",
    "                            transform=transforms.ToTensor(),\n",
    "                            download=True)\n",
    "\n",
    "test_dataset = dsets.MNIST(root='./data',\n",
    "                           train=False,\n",
    "                           transform=transforms.ToTensor())\n",
    "\n",
    "# Data Loader (Input Pipeline)\n",
    "train_loader = torch.utils.data.DataLoader(dataset=train_dataset,\n",
    "                                           batch_size=batch_size,\n",
    "                                           shuffle=True)\n",
    "\n",
    "test_loader = torch.utils.data.DataLoader(dataset=test_dataset,\n",
    "                                          batch_size=batch_size,\n",
    "                                          shuffle=False)\n",
    "\n",
    "# Neural Network Model (1 hidden layer)\n",
    "class Net(nn.Module):\n",
    "    def __init__(self, input_size, hidden_size, num_classes):\n",
    "        super(Net, self).__init__()\n",
    "        self.fc1 = nn.Linear(input_size, hidden_size)\n",
    "        self.relu = nn.ReLU()\n",
    "        self.fc2 = nn.Linear(hidden_size, num_classes)\n",
    "\n",
    "    def forward(self, x):\n",
    "        out = self.fc1(x)\n",
    "        out = self.relu(out)\n",
    "        out = self.fc2(out)\n",
    "        return out\n",
    "\n",
    "model = cuda(Net(input_size, hidden_size, num_classes))"
   ],
   "metadata": {
    "collapsed": false
   }
  },
  {
   "cell_type": "code",
   "execution_count": 79,
   "outputs": [
    {
     "data": {
      "text/plain": "0it [00:00, ?it/s]",
      "application/vnd.jupyter.widget-view+json": {
       "version_major": 2,
       "version_minor": 0,
       "model_id": "5e77248aafb443b587f1f5a48c5967cc"
      }
     },
     "metadata": {},
     "output_type": "display_data"
    },
    {
     "ename": "RuntimeError",
     "evalue": "shape '[-1, 784]' is invalid for input of size 320",
     "output_type": "error",
     "traceback": [
      "\u001B[0;31m---------------------------------------------------------------------------\u001B[0m",
      "\u001B[0;31mRuntimeError\u001B[0m                              Traceback (most recent call last)",
      "\u001B[0;32m<ipython-input-79-65caccd0cdae>\u001B[0m in \u001B[0;36m<module>\u001B[0;34m\u001B[0m\n\u001B[1;32m     10\u001B[0m         \u001B[0;31m# Convert torch tensor to Variable\u001B[0m\u001B[0;34m\u001B[0m\u001B[0;34m\u001B[0m\u001B[0;34m\u001B[0m\u001B[0m\n\u001B[1;32m     11\u001B[0m \u001B[0;34m\u001B[0m\u001B[0m\n\u001B[0;32m---> 12\u001B[0;31m         \u001B[0mimages\u001B[0m \u001B[0;34m=\u001B[0m \u001B[0mtoTensor\u001B[0m\u001B[0;34m(\u001B[0m\u001B[0mimages\u001B[0m\u001B[0;34m.\u001B[0m\u001B[0mview\u001B[0m\u001B[0;34m(\u001B[0m\u001B[0;34m-\u001B[0m\u001B[0;36m1\u001B[0m\u001B[0;34m,\u001B[0m \u001B[0;36m28\u001B[0m\u001B[0;34m*\u001B[0m\u001B[0;36m28\u001B[0m\u001B[0;34m)\u001B[0m\u001B[0;34m)\u001B[0m\u001B[0;34m\u001B[0m\u001B[0;34m\u001B[0m\u001B[0m\n\u001B[0m\u001B[1;32m     13\u001B[0m         \u001B[0mlabels\u001B[0m \u001B[0;34m=\u001B[0m \u001B[0mtoTensor\u001B[0m\u001B[0;34m(\u001B[0m\u001B[0mlabels\u001B[0m\u001B[0;34m,\u001B[0m\u001B[0mdtype\u001B[0m\u001B[0;34m=\u001B[0m\u001B[0mtorch\u001B[0m\u001B[0;34m.\u001B[0m\u001B[0mlong\u001B[0m\u001B[0;34m)\u001B[0m\u001B[0;34m\u001B[0m\u001B[0;34m\u001B[0m\u001B[0m\n\u001B[1;32m     14\u001B[0m \u001B[0;34m\u001B[0m\u001B[0m\n",
      "\u001B[0;31mRuntimeError\u001B[0m: shape '[-1, 784]' is invalid for input of size 320"
     ]
    }
   ],
   "source": [
    "# Loss and Optimizer\n",
    "criterion = nn.CrossEntropyLoss()  #loss function\n",
    "optimizer = torch.optim.Adam(model.parameters(), lr=learning_rate)\n",
    "L = [] # loss history\n",
    "\n",
    "# Train the Model\n",
    "model.train() #set the mode to training\n",
    "for epoch in range(num_epochs):\n",
    "    for i, (images, labels) in tqdm(enumerate(train_loader)):  #pick a batch\n",
    "        # Convert torch tensor to Variable\n",
    "\n",
    "        images = toTensor(images.view(-1, 28*28))\n",
    "        labels = toTensor(labels,dtype=torch.long)\n",
    "\n",
    "        # Forward + Backward + Optimize\n",
    "        optimizer.zero_grad()  # zero the gradient buffer\n",
    "        outputs = model(images)\n",
    "        loss = criterion(outputs, labels)\n",
    "        L.append(loss.item())\n",
    "        loss.backward()\n",
    "        optimizer.step()\n",
    "\n",
    "plt.plot(L);plt.xlabel('iterations');plt.ylabel('Loss');plt.grid()"
   ],
   "metadata": {
    "collapsed": false
   }
  },
  {
   "cell_type": "code",
   "execution_count": 10,
   "outputs": [
    {
     "name": "stderr",
     "output_type": "stream",
     "text": [
      "<ipython-input-7-a764a003a643>:15: UserWarning: To copy construct from a tensor, it is recommended to use sourceTensor.clone().detach() or sourceTensor.clone().detach().requires_grad_(True), rather than torch.tensor(sourceTensor).\n",
      "  return cuda(Variable(torch.tensor(v)).type(dtype).requires_grad_(requires_grad))\n"
     ]
    },
    {
     "name": "stdout",
     "output_type": "stream",
     "text": [
      "Accuracy of the network on the 10000 test images: 97 %\n"
     ]
    }
   ],
   "source": [
    "\n",
    "# Test the Model\n",
    "model.eval() #set the mode to evaluation\n",
    "correct = 0\n",
    "total = 0\n",
    "for images, labels in test_loader:\n",
    "    images = toTensor(images.view(-1, 28*28))\n",
    "    outputs = model(images)\n",
    "    _, predicted = torch.max(outputs.data, 1)\n",
    "    total += labels.size(0)\n",
    "    correct += (toNumpy(predicted) == toNumpy(labels)).sum()\n",
    "\n",
    "print('Accuracy of the network on the 10000 test images: %d %%' % (100 * correct / total))\n",
    "\n",
    "# Save the Model\n",
    "#torch.save(model.state_dict(), 'model.pkl')"
   ],
   "metadata": {
    "collapsed": false
   }
  },
  {
   "cell_type": "code",
   "execution_count": 69,
   "outputs": [
    {
     "name": "stdout",
     "output_type": "stream",
     "text": [
      "<class 'torch.Tensor'> shape torch.Size([3531, 32])\n",
      "tensor([  19, 1666,  166, 5000, 5000, 2225, 5000,   55,    1,    1,    1,    1,\n",
      "           1,    1,    1,    1,    1,    1,    1,    1,    1,    1,    1,    1,\n",
      "           1,    1,    1,    1,    1,    1,    1,    1], dtype=torch.int16)\n"
     ]
    }
   ],
   "source": [
    "with open('xy_test1.pkl', 'rb') as inp_file:\n",
    "    temp = pickle.load(inp_file)\n",
    "    [xs, ys] = temp\n",
    "    xs = torch.from_numpy(xs) + 1\n",
    "    print(type(xs), \"shape\", xs.size())\n",
    "    print(xs[2])\n"
   ],
   "metadata": {
    "collapsed": false
   }
  },
  {
   "cell_type": "code",
   "execution_count": 70,
   "outputs": [],
   "source": [
    "import torch\n",
    "from torch.utils.data import Dataset, DataLoader\n",
    "import pickle\n",
    "\n",
    "class tweet_dataset(Dataset):\n",
    "    def __init__(self, dataset_pkl):\n",
    "        # load the preprocessed (tokenized) data from pickle file 'dataset_pkl'\n",
    "        with open(dataset_pkl, 'rb') as inp_file:\n",
    "            temp = pickle.load(inp_file)\n",
    "            [xs, ys] = temp\n",
    "            xs = torch.from_numpy(xs)\n",
    "            ys = torch.from_numpy(ys) + 1   # adding 1 so that the classes are 0-negative, 1-neutral, 2-positive\n",
    "            self.x = toTensor(xs, dtype=torch.long, requires_grad=False)\n",
    "            self.y = toTensor(ys, dtype=torch.long, requires_grad=False)\n",
    "            self.n_samples = len(ys)\n",
    "    def __getitem__(self, index):\n",
    "        return self.x[index], self.y[index]\n",
    "    def __len__(self):\n",
    "        return self.n_samples\n",
    "\n",
    "\n",
    "\n",
    "\n",
    "# temp = tweet_dataset(\"small_train.pkl\")\n",
    "# dataloader = DataLoader(dataset = temp, batch_size=4, shuffle=True, drop_last=True)\n",
    "# dataiter = iter(dataloader)\n",
    "# data = next(dataiter)\n",
    "\n",
    "\n",
    "# dummy training\n",
    "    # num_epochs = 2\n",
    "    # num_samples = len(temp)\n",
    "    # num_iterations = num_samples // 4\n",
    "    # print(num_samples, num_iterations)\n",
    "    #\n",
    "    # for epoch in range(num_epochs):\n",
    "    #     for i, (inputs, labels) in enumerate(dataloader):\n",
    "    #         # forward\n",
    "    #         # backward\n",
    "    #         if i%10==0:\n",
    "    #             print(f\"epoch {epoch+1}/{num_epochs},iteration {i+1}/{num_iterations},inputs {inputs.shape},labs {labels.shape}\")\n",
    "\n",
    "# with open(\"preprocessing-glove.pkl\", 'rb') as inp_file:\n",
    "#     temp_dicts = pickle.load(inp_file)\n",
    "#     [_,_,_,_,_, txtlist_train, txtlist_test1, txtlist_test2, txtlist_test3, txtlist_dev] = temp_dicts\n",
    "# with open(\"preprocessing-glove.pkl\", 'rb') as inp_file:\n",
    "#     temp_dicts = pickle.load(inp_file)\n",
    "#     [y_train, y_test1, y_test2, y_test3, y_dev, IDs_train, IDs_test1, IDs_test2, IDs_test3, IDs_dev] = temp_dicts\n"
   ],
   "metadata": {
    "collapsed": false
   }
  },
  {
   "cell_type": "code",
   "execution_count": null,
   "outputs": [],
   "source": [
    "def create_emb_layer(weights_matrix, non_trainable=False):\n",
    "    num_embeddings, embedding_dim = weights_matrix.size()\n",
    "    emb_layer = nn.Embedding(num_embeddings, embedding_dim)\n",
    "    emb_layer.load_state_dict({'weight': weights_matrix})\n",
    "    if non_trainable:\n",
    "        emb_layer.weight.requires_grad = False\n",
    "\n",
    "    return emb_layer, num_embeddings, embedding_dim\n",
    "\n",
    "class ToyNN(nn.Module):\n",
    "    def __init__(self, weights_matrix, hidden_size, num_layers):\n",
    "        super(self).__init__()\n",
    "        self.embedding, num_embeddings, embedding_dim = create_emb_layer(weights_matrix, True)\n",
    "        self.hidden_size = hidden_size\n",
    "        self.num_layers = num_layers\n",
    "        self.gru = nn.GRU(embedding_dim, hidden_size, num_layers, batch_first=True)\n",
    "\n",
    "    def forward(self, inp, hidden):\n",
    "        return self.gru(self.embedding(inp), hidden)\n",
    "\n",
    "    def init_hidden(self, batch_size):\n",
    "        return Variable(torch.zeros(self.num_layers, batch_size, self.hidden_size))\n"
   ],
   "metadata": {
    "collapsed": false
   }
  },
  {
   "cell_type": "code",
   "execution_count": 98,
   "outputs": [
    {
     "data": {
      "text/plain": "tensor(0)"
     },
     "execution_count": 98,
     "metadata": {},
     "output_type": "execute_result"
    }
   ],
   "source": [
    "a = torch.tensor([3,1,2])\n",
    "a.argmax(dim=-1)"
   ],
   "metadata": {
    "collapsed": false
   }
  },
  {
   "cell_type": "code",
   "execution_count": 113,
   "outputs": [
    {
     "data": {
      "text/plain": "  0%|          | 0/100 [00:00<?, ?it/s]",
      "application/vnd.jupyter.widget-view+json": {
       "version_major": 2,
       "version_minor": 0,
       "model_id": "9a545140651649568fe13fe0fdddc46b"
      }
     },
     "metadata": {},
     "output_type": "display_data"
    },
    {
     "data": {
      "text/plain": "<Figure size 432x288 with 1 Axes>",
      "image/png": "[encoded data removed]"
     },
     "metadata": {
      "needs_background": "light"
     },
     "output_type": "display_data"
    }
   ],
   "source": [
    "# sample RNN code\n",
    "import torch.nn as nn\n",
    "from tqdm.notebook import tqdm\n",
    "from sklearn.metrics import accuracy_score\n",
    "\n",
    "# setup a random seed for reproducible results\n",
    "def random_seed_setup(seed):\n",
    "    torch.manual_seed(seed) #torch.cuda.manual_seed_all(seed)\n",
    "    np.random.seed(seed)\n",
    "    torch.backends.cudnn.deterministic = True\n",
    "\n",
    "\n",
    "\n",
    "\n",
    "device = torch.device('cpu')                        # setting up the device\n",
    "random_seed_setup(123)                              # setting up the seed\n",
    "train_dataset = tweet_dataset(\"small_train.pkl\")    # loading data\n",
    "dev_dataset = tweet_dataset(\"small_dev.pkl\")\n",
    "test_dataset = tweet_dataset(\"small_test1.pkl\")\n",
    "\n",
    "# Hyperparameters\n",
    "input_size = 100\n",
    "seq_len = 32\n",
    "hidden_size = 64\n",
    "n_layers = 1\n",
    "n_classes = 3\n",
    "n_epochs = 100\n",
    "batch_size = 10\n",
    "learning_rate = 0.001\n",
    "\n",
    "# data loaders\n",
    "train_loader = DataLoader(dataset=train_dataset, batch_size=batch_size, shuffle=True, drop_last=True)\n",
    "dev_loader = DataLoader(dataset=dev_dataset, batch_size=batch_size, shuffle=True, drop_last=True)\n",
    "test_loader = DataLoader(dataset=test_dataset, batch_size=batch_size, shuffle=True, drop_last=True)\n",
    "\n",
    "# Fully connected neural network with one hidden layer\n",
    "class RNN(nn.Module):\n",
    "    def __init__(self, input_size, hidden_size, n_layers, n_classes, embedding_matrix_file=\"embeddings.pkl\"):\n",
    "        super(RNN, self).__init__()\n",
    "\n",
    "        # load preprocessed embedding matrix\n",
    "        with open(embedding_matrix_file, 'rb') as inp_file:\n",
    "            temp = pickle.load(inp_file)\n",
    "            [embedding_matrix, word2ID, embedding_dict] = temp\n",
    "            embedding_matrix = torch.from_numpy(embedding_matrix)\n",
    "\n",
    "\n",
    "        n_embeddings, embedding_dim = embedding_matrix.size()  # (5000, 100) ~ (n_vocab, glove_dim)\n",
    "        embedding_layer = nn.Embedding(n_embeddings, embedding_dim)\n",
    "        embedding_layer.load_state_dict({'weight': embedding_matrix})\n",
    "        embedding_layer.weight.requires_grad = False\n",
    "\n",
    "        self.n_layers = n_layers\n",
    "        self.hidden_size = hidden_size\n",
    "\n",
    "        self.embedding = embedding_layer\n",
    "        self.n_embeddings = n_embeddings\n",
    "        self.embedding_dim = embedding_dim\n",
    "        self.lstm = nn.LSTM(input_size, hidden_size, n_layers, batch_first=True)  #  x: (batch_size, seq, input_size)\n",
    "        self.fc1 = nn.Linear(hidden_size, n_classes)  # classification layer\n",
    "\n",
    "        # or:\n",
    "        #self.gru = nn.GRU(input_size, hidden_size, num_layers, batch_first=True)\n",
    "        #self.lstm = nn.LSTM(input_size, hidden_size, num_layers, batch_first=True)\n",
    "\n",
    "    def forward(self, x_batch):\n",
    "        init_weights = torch.rand(self.n_layers, x_batch.size(0), self.hidden_size).to(device)\n",
    "        init_cell = torch.rand(self.n_layers, x_batch.size(0), self.hidden_size).to(device)\n",
    "\n",
    "        x_to_glove = self.embedding(x_batch)\n",
    "        out, _ = self.lstm(x_to_glove, (init_weights,init_cell))\n",
    "            # (10, 32, 60) ~ (batch_size, seq, hidden_dim)\n",
    "        out = out[:,-1,:]  # take only the last time step in the sequence\n",
    "            # (10, 60) ~ (batch_size, hidden_dim)\n",
    "        out = self.fc1(out)\n",
    "        return out\n",
    "\n",
    "model = RNN(input_size, hidden_size, n_layers, num_classes).to(device)\n",
    "\n",
    "# Loss and optimizer\n",
    "criterion = nn.CrossEntropyLoss()\n",
    "optimizer = torch.optim.Adam(model.parameters(), lr=learning_rate)\n",
    "L = []            # training loss history\n",
    "L_validation = [] # validation loss history\n",
    "i_val = []        # validation indexes\n",
    "\n",
    "# Train the model\n",
    "n_total_steps = len(train_loader)\n",
    "for epoch in tqdm(range(n_epochs)):\n",
    "    for i, (xs, ys) in enumerate(train_loader):\n",
    "        # originally  (100, 32) ~ (samples, max_len_seq)\n",
    "        # after embedding: (100, 32, 100) ~ (samples, seqs, glove_dim)\n",
    "\n",
    "        xs = xs.to(device)  # xs will be (10, 32) ~ (batch, seq_len)\n",
    "        ys = ys.to(device)\n",
    "\n",
    "        # Forward pass\n",
    "        outputs = model(xs)\n",
    "        loss = criterion(outputs, ys)\n",
    "        L.append(loss.item())\n",
    "\n",
    "        # Backward and optimize\n",
    "        optimizer.zero_grad()\n",
    "        loss.backward()\n",
    "        optimizer.step()\n",
    "        #if (i+1) % 10 == 0:\n",
    "        #    print (f'Epoch [{epoch+1}/{n_epochs}], Step [{i+1}/{n_total_steps}], Loss: {loss.item():.3f}')\n",
    "\n",
    "    # do the validation error analysis\n",
    "    with torch.no_grad():\n",
    "        ys_true, ys_pred, L_val = [], [], []\n",
    "        for  j, (xs, ys) in enumerate(dev_loader):\n",
    "            preds = model(xs)\n",
    "            loss = criterion(preds, ys)\n",
    "            L_val.append(loss)\n",
    "            ys_true.append(ys)\n",
    "            ys_pred.append(preds.argmax(dim=-1))\n",
    "        ys_true = torch.cat(ys_true)\n",
    "        ys_pred = torch.cat(ys_pred)\n",
    "\n",
    "        #print(\"Validation loss: {:.3f}\".format(torch.tensor(L_val).mean()))\n",
    "        #print(\"Validation accu: {:.3f}\".format(accuracy_score(ys_true.detach().numpy(), ys_pred.detach().numpy())))\n",
    "        L_validation.append(torch.tensor(L_val).mean())  # append the validation loss vector\n",
    "        i_val.append(epoch * i)\n",
    "\n",
    "plt.plot(L);plt.xlabel('iterations');plt.ylabel('Loss');plt.grid()\n",
    "plt.plot(i_val, L_validation); plt.show()"
   ],
   "metadata": {
    "collapsed": false
   }
  },
  {
   "cell_type": "code",
   "execution_count": 40,
   "outputs": [
    {
     "data": {
      "text/plain": "tensor([[0.0628, 0.2235],\n        [0.7389, 0.1374],\n        [0.3469, 0.7753],\n        [0.2320, 0.3895],\n        [0.2204, 0.2314],\n        [0.5926, 0.6598],\n        [0.1948, 0.6366],\n        [0.4791, 0.9790],\n        [0.3696, 0.4107],\n        [0.9971, 0.7890]], requires_grad=True)"
     },
     "execution_count": 40,
     "metadata": {},
     "output_type": "execute_result"
    }
   ],
   "source": [
    "# Loss and optimizer\n",
    "criterion = nn.CrossEntropyLoss()\n",
    "optimizer = torch.optim.Adam(model.parameters(), lr=learning_rate)\n",
    "\n",
    "# Train the model\n",
    "n_total_steps = len(train_loader)\n",
    "for epoch in range(num_epochs):\n",
    "    for i, (images, labels) in enumerate(train_loader):\n",
    "        # origin shape: [N, 1, 28, 28]\n",
    "        # resized: [N, 28, 28]\n",
    "        images = images.reshape(-1, sequence_length, input_size).to(device)\n",
    "        labels = labels.to(device)\n",
    "\n",
    "        # Forward pass\n",
    "        outputs = model(images)\n",
    "        loss = criterion(outputs, labels)\n",
    "\n",
    "        # Backward and optimize\n",
    "        optimizer.zero_grad()\n",
    "        loss.backward()\n",
    "        optimizer.step()\n",
    "\n",
    "        if (i+1) % 100 == 0:\n",
    "            print (f'Epoch [{epoch+1}/{num_epochs}], Step [{i+1}/{n_total_steps}], Loss: {loss.item():.4f}')"
   ],
   "metadata": {
    "collapsed": false
   }
  }
 ],
 "metadata": {
  "kernelspec": {
   "display_name": "Python 3",
   "language": "python",
   "name": "python3"
  },
  "language_info": {
   "codemirror_mode": {
    "name": "ipython",
    "version": 2
   },
   "file_extension": ".py",
   "mimetype": "text/x-python",
   "name": "python",
   "nbconvert_exporter": "python",
   "pygments_lexer": "ipython2",
   "version": "2.7.6"
  }
 },
 "nbformat": 4,
 "nbformat_minor": 0
}
